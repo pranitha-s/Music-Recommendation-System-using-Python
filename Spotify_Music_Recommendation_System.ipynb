{
  "nbformat": 4,
  "nbformat_minor": 0,
  "metadata": {
    "colab": {
      "provenance": [],
      "authorship_tag": "ABX9TyMuxSilU9jhfV+sfHcKJWX7",
      "include_colab_link": true
    },
    "kernelspec": {
      "name": "python3",
      "display_name": "Python 3"
    },
    "language_info": {
      "name": "python"
    }
  },
  "cells": [
    {
      "cell_type": "markdown",
      "metadata": {
        "id": "view-in-github",
        "colab_type": "text"
      },
      "source": [
        "<a href=\"https://colab.research.google.com/github/pranitha-s/Music-Recommendation-System-using-Python/blob/main/Spotify_Music_Recommendation_System.ipynb\" target=\"_parent\"><img src=\"https://colab.research.google.com/assets/colab-badge.svg\" alt=\"Open In Colab\"/></a>"
      ]
    },
    {
      "cell_type": "code",
      "source": [
        "!pip install spotipy -q"
      ],
      "metadata": {
        "colab": {
          "base_uri": "https://localhost:8080/"
        },
        "id": "4Uz1Z5wZb7DT",
        "outputId": "8e640895-0e0c-4b13-ac18-6073cdee095c"
      },
      "execution_count": 1,
      "outputs": [
        {
          "output_type": "stream",
          "name": "stdout",
          "text": [
            "\u001b[?25l     \u001b[90m━━━━━━━━━━━━━━━━━━━━━━━━━━━━━━━━━━━━━━━━\u001b[0m \u001b[32m0.0/250.3 kB\u001b[0m \u001b[31m?\u001b[0m eta \u001b[36m-:--:--\u001b[0m\r\u001b[2K     \u001b[91m━━━━━━━━━━━━━━━━━━━━━━━━━━━━━━━━━━━━━━━\u001b[0m\u001b[90m╺\u001b[0m \u001b[32m245.8/250.3 kB\u001b[0m \u001b[31m8.2 MB/s\u001b[0m eta \u001b[36m0:00:01\u001b[0m\r\u001b[2K     \u001b[90m━━━━━━━━━━━━━━━━━━━━━━━━━━━━━━━━━━━━━━━━\u001b[0m \u001b[32m250.3/250.3 kB\u001b[0m \u001b[31m6.5 MB/s\u001b[0m eta \u001b[36m0:00:00\u001b[0m\n",
            "\u001b[?25h"
          ]
        }
      ]
    },
    {
      "cell_type": "code",
      "execution_count": 2,
      "metadata": {
        "colab": {
          "base_uri": "https://localhost:8080/"
        },
        "id": "ySNy8EuUXSJ6",
        "outputId": "f9e35452-1bb3-4d60-aada-24f7ac365b59"
      },
      "outputs": [
        {
          "output_type": "stream",
          "name": "stdout",
          "text": [
            "Access token obtained successfully.\n"
          ]
        }
      ],
      "source": [
        "import requests\n",
        "import base64\n",
        "\n",
        "CLIENT_ID = '91f761611636403088e633a7d177f6e0'\n",
        "CLIENT_SECRET = 'da0feb9ce0404e79a3d68a726d34d051'\n",
        "\n",
        "client_credentials = f\"{CLIENT_ID}:{CLIENT_SECRET}\"\n",
        "client_credentials_base64 = base64.b64encode(client_credentials.encode())\n",
        "\n",
        "token_url = 'https://accounts.spotify.com/api/token'\n",
        "headers = {\n",
        "    'Authorization': f'Basic {client_credentials_base64.decode()}'\n",
        "}\n",
        "data = {\n",
        "    'grant_type': 'client_credentials'\n",
        "}\n",
        "response = requests.post(token_url, data=data, headers=headers)\n",
        "\n",
        "if response.status_code == 200:\n",
        "    access_token = response.json()['access_token']\n",
        "    print(\"Access token obtained successfully.\")\n",
        "else:\n",
        "    print(\"Error obtaining access token.\")\n",
        "    exit()"
      ]
    },
    {
      "cell_type": "code",
      "source": [
        "import pandas as pd\n",
        "import spotipy\n",
        "from spotipy.oauth2 import SpotifyOAuth\n",
        "\n",
        "def get_trending_playlist_data(playlist_id, access_token):\n",
        "\n",
        "    sp = spotipy.Spotify(auth=access_token)\n",
        "\n",
        "\n",
        "    playlist_tracks = sp.playlist_tracks(playlist_id, fields='items(track(id, name, artists, album(id, name)))')\n",
        "\n",
        "\n",
        "    music_data = []\n",
        "    for track_info in playlist_tracks['items']:\n",
        "        track = track_info['track']\n",
        "        track_name = track['name']\n",
        "        artists = ', '.join([artist['name'] for artist in track['artists']])\n",
        "        album_name = track['album']['name']\n",
        "        album_id = track['album']['id']\n",
        "        track_id = track['id']\n",
        "\n",
        "\n",
        "        audio_features = sp.audio_features(track_id)[0] if track_id != 'Not available' else None\n",
        "\n",
        "\n",
        "        try:\n",
        "            album_info = sp.album(album_id) if album_id != 'Not available' else None\n",
        "            release_date = album_info['release_date'] if album_info else None\n",
        "        except:\n",
        "            release_date = None\n",
        "\n",
        "\n",
        "        try:\n",
        "            track_info = sp.track(track_id) if track_id != 'Not available' else None\n",
        "            popularity = track_info['popularity'] if track_info else None\n",
        "        except:\n",
        "            popularity = None\n",
        "\n",
        "\n",
        "        track_data = {\n",
        "            'Track Name': track_name,\n",
        "            'Artists': artists,\n",
        "            'Album Name': album_name,\n",
        "            'Album ID': album_id,\n",
        "            'Track ID': track_id,\n",
        "            'Popularity': popularity,\n",
        "            'Release Date': release_date,\n",
        "            'Duration (ms)': audio_features['duration_ms'] if audio_features else None,\n",
        "            'Explicit': track_info.get('explicit', None),\n",
        "            'External URLs': track_info.get('external_urls', {}).get('spotify', None),\n",
        "            'Danceability': audio_features['danceability'] if audio_features else None,\n",
        "            'Energy': audio_features['energy'] if audio_features else None,\n",
        "            'Key': audio_features['key'] if audio_features else None,\n",
        "            'Loudness': audio_features['loudness'] if audio_features else None,\n",
        "            'Mode': audio_features['mode'] if audio_features else None,\n",
        "            'Speechiness': audio_features['speechiness'] if audio_features else None,\n",
        "            'Acousticness': audio_features['acousticness'] if audio_features else None,\n",
        "            'Instrumentalness': audio_features['instrumentalness'] if audio_features else None,\n",
        "            'Liveness': audio_features['liveness'] if audio_features else None,\n",
        "            'Valence': audio_features['valence'] if audio_features else None,\n",
        "            'Tempo': audio_features['tempo'] if audio_features else None,\n",
        "\n",
        "        }\n",
        "\n",
        "        music_data.append(track_data)\n",
        "\n",
        "\n",
        "    df = pd.DataFrame(music_data)\n",
        "\n",
        "    return df"
      ],
      "metadata": {
        "id": "D2VptgxjbQY0"
      },
      "execution_count": 3,
      "outputs": []
    },
    {
      "cell_type": "code",
      "source": [
        "playlist_id = '37i9dQZF1DX76Wlfdnj7AP'\n",
        "\n",
        "\n",
        "music_df = get_trending_playlist_data(playlist_id, access_token)\n",
        "\n",
        "print(music_df)"
      ],
      "metadata": {
        "colab": {
          "base_uri": "https://localhost:8080/"
        },
        "id": "HIhrusrQcGEh",
        "outputId": "07f2c5a8-c83e-46c5-f538-8dd86d4cac13"
      },
      "execution_count": 4,
      "outputs": [
        {
          "output_type": "stream",
          "name": "stdout",
          "text": [
            "                       Track Name                      Artists  \\\n",
            "0                        fukumean                        Gunna   \n",
            "1                           Prada  cassö, RAYE, D-Block Europe   \n",
            "2                 I'm Good (Blue)     David Guetta, Bebe Rexha   \n",
            "3      FE!N (feat. Playboi Carti)  Travis Scott, Playboi Carti   \n",
            "4   Jimmy Cooks (feat. 21 Savage)             Drake, 21 Savage   \n",
            "..                            ...                          ...   \n",
            "95    Another Love - Tiësto Remix            Tom Odell, Tiësto   \n",
            "96    pushin P (feat. Young Thug)    Gunna, Future, Young Thug   \n",
            "97          Rainfall (Praise You)                    Tom Santa   \n",
            "98   Kernkraft 400 (A Better Day)                   Topic, A7S   \n",
            "99                    Motley Crew                  Post Malone   \n",
            "\n",
            "                      Album Name                Album ID  \\\n",
            "0               a Gift & a Curse  5qmZefgh78fN3jsyPPlvuw   \n",
            "1                          Prada  5MU0RmBSpoSxOPYBfcobDc   \n",
            "2                I'm Good (Blue)  7M842DMhYVALrXsw3ty7B3   \n",
            "3                         UTOPIA  18NOKLkZETa4sWwLMIm0UZ   \n",
            "4            Honestly, Nevermind  3cf4iSSKd8ffTncbtKljXw   \n",
            "..                           ...                     ...   \n",
            "95   Another Love (Tiësto Remix)  1QltVGlNGbK94CKgUsYZGa   \n",
            "96                       DS4EVER  02uWB8Kekadkl3yGBoOOcx   \n",
            "97         Rainfall (Praise You)  4VanY5i4E59Mhz52qznJ95   \n",
            "98  Kernkraft 400 (A Better Day)  2NIChqkijGw4r4Dqfmg0A3   \n",
            "99                   Motley Crew  4tokbQaFXRrq8keVGBD9vb   \n",
            "\n",
            "                  Track ID  Popularity Release Date  Duration (ms)  Explicit  \\\n",
            "0   4rXLjWdF2ZZpXCVTfWcshS          95   2023-06-16         125040      True   \n",
            "1   59NraMJsLaMCVtwXTSia8i          94   2023-08-11         132359      True   \n",
            "2   4uUG5RXrOk84mYEfFvj3cK          91   2022-08-26         175238      True   \n",
            "3   42VsgItocQwOQC3XWZ8JNA          91   2023-07-28         191701      True   \n",
            "4   3F5CgOj3wFlRv51JsHbxhe          90   2022-06-17         218365      True   \n",
            "..                     ...         ...          ...            ...       ...   \n",
            "95  4Et6tUEO7biKxZEfJXpNj1          77   2022-05-13         185366     False   \n",
            "96  3XOalgusokruzA5ZBA2Qcb          76   2022-01-13         136267      True   \n",
            "97  1M8t1j3Kv2qp97bdq5q4Vl          76   2022-02-18         166570     False   \n",
            "98  3kcKlOkQQEPVwxwljbGJ5p          76   2022-06-17         165800     False   \n",
            "99  40uMIn2zJLAQhNXghRjBed          75   2021-07-09         184213      True   \n",
            "\n",
            "                                        External URLs  ...  Energy  Key  \\\n",
            "0   https://open.spotify.com/track/4rXLjWdF2ZZpXCV...  ...   0.622    1   \n",
            "1   https://open.spotify.com/track/59NraMJsLaMCVtw...  ...   0.717    8   \n",
            "2   https://open.spotify.com/track/4uUG5RXrOk84mYE...  ...   0.965    7   \n",
            "3   https://open.spotify.com/track/42VsgItocQwOQC3...  ...   0.882    3   \n",
            "4   https://open.spotify.com/track/3F5CgOj3wFlRv51...  ...   0.673    0   \n",
            "..                                                ...  ...     ...  ...   \n",
            "95  https://open.spotify.com/track/4Et6tUEO7biKxZE...  ...   0.764    4   \n",
            "96  https://open.spotify.com/track/3XOalgusokruzA5...  ...   0.422    1   \n",
            "97  https://open.spotify.com/track/1M8t1j3Kv2qp97b...  ...   0.862    5   \n",
            "98  https://open.spotify.com/track/3kcKlOkQQEPVwxw...  ...   0.727   11   \n",
            "99  https://open.spotify.com/track/40uMIn2zJLAQhNX...  ...   0.631    3   \n",
            "\n",
            "    Loudness  Mode  Speechiness  Acousticness  Instrumentalness  Liveness  \\\n",
            "0     -6.747     0       0.0903      0.119000          0.000000    0.2850   \n",
            "1     -5.804     1       0.0375      0.001000          0.000002    0.1130   \n",
            "2     -3.673     0       0.0343      0.003830          0.000007    0.3710   \n",
            "3     -2.777     0       0.0600      0.031600          0.000000    0.1420   \n",
            "4     -4.711     1       0.1750      0.000307          0.000002    0.0930   \n",
            "..       ...   ...          ...           ...               ...       ...   \n",
            "95    -4.685     0       0.0737      0.083600          0.087100    0.1320   \n",
            "96    -4.572     0       0.1870      0.007830          0.006930    0.1290   \n",
            "97    -5.464     0       0.0606      0.140000          0.009200    0.2520   \n",
            "98    -5.570     0       0.0562      0.184000          0.000020    0.3090   \n",
            "99    -3.818     0       0.0786      0.090400          0.000004    0.0998   \n",
            "\n",
            "    Valence    Tempo  \n",
            "0     0.220  130.001  \n",
            "1     0.422  141.904  \n",
            "2     0.304  128.040  \n",
            "3     0.201  148.038  \n",
            "4     0.366  165.921  \n",
            "..      ...      ...  \n",
            "95    0.473  123.046  \n",
            "96    0.488   77.502  \n",
            "97    0.509  128.039  \n",
            "98    0.400  125.975  \n",
            "99    0.288  129.915  \n",
            "\n",
            "[100 rows x 21 columns]\n"
          ]
        }
      ]
    },
    {
      "cell_type": "code",
      "source": [
        "print(music_df.isnull().sum())"
      ],
      "metadata": {
        "colab": {
          "base_uri": "https://localhost:8080/"
        },
        "id": "PQ-s4lU3fp9A",
        "outputId": "669af1ef-4e07-4e66-a450-3ccb1b453d74"
      },
      "execution_count": 5,
      "outputs": [
        {
          "output_type": "stream",
          "name": "stdout",
          "text": [
            "Track Name          0\n",
            "Artists             0\n",
            "Album Name          0\n",
            "Album ID            0\n",
            "Track ID            0\n",
            "Popularity          0\n",
            "Release Date        0\n",
            "Duration (ms)       0\n",
            "Explicit            0\n",
            "External URLs       0\n",
            "Danceability        0\n",
            "Energy              0\n",
            "Key                 0\n",
            "Loudness            0\n",
            "Mode                0\n",
            "Speechiness         0\n",
            "Acousticness        0\n",
            "Instrumentalness    0\n",
            "Liveness            0\n",
            "Valence             0\n",
            "Tempo               0\n",
            "dtype: int64\n"
          ]
        }
      ]
    },
    {
      "cell_type": "code",
      "source": [
        "import pandas as pd\n",
        "import numpy as np\n",
        "from sklearn.model_selection import train_test_split\n",
        "from sklearn.preprocessing import MinMaxScaler\n",
        "from datetime import datetime\n",
        "from sklearn.metrics.pairwise import cosine_similarity\n",
        "\n",
        "data = music_df"
      ],
      "metadata": {
        "id": "_7Fznrolfuat"
      },
      "execution_count": 6,
      "outputs": []
    },
    {
      "cell_type": "code",
      "source": [
        "def calculate_weighted_popularity(release_date):\n",
        "    release_date = datetime.strptime(release_date, '%Y-%m-%d')\n",
        "\n",
        "    time_span = datetime.now() - release_date\n",
        "\n",
        "    weight = 1 / (time_span.days + 1)\n",
        "    return weight"
      ],
      "metadata": {
        "id": "QFAKUVjBfxoz"
      },
      "execution_count": 7,
      "outputs": []
    },
    {
      "cell_type": "code",
      "source": [
        "scaler = MinMaxScaler()\n",
        "music_features = music_df[['Danceability', 'Energy', 'Key',\n",
        "                           'Loudness', 'Mode', 'Speechiness', 'Acousticness',\n",
        "                           'Instrumentalness', 'Liveness', 'Valence', 'Tempo']].values\n",
        "music_features_scaled = scaler.fit_transform(music_features)"
      ],
      "metadata": {
        "id": "-dyZ_JGif3s_"
      },
      "execution_count": 8,
      "outputs": []
    },
    {
      "cell_type": "code",
      "source": [
        "def content_based_recommendations(input_song_name, num_recommendations=5):\n",
        "    if input_song_name not in music_df['Track Name'].values:\n",
        "        print(f\"'{input_song_name}' not found in the dataset. Please enter a valid song name.\")\n",
        "        return\n",
        "\n",
        "    input_song_index = music_df[music_df['Track Name'] == input_song_name].index[0]\n",
        "\n",
        "    similarity_scores = cosine_similarity([music_features_scaled[input_song_index]], music_features_scaled)\n",
        "\n",
        "    similar_song_indices = similarity_scores.argsort()[0][::-1][1:num_recommendations + 1]\n",
        "\n",
        "    content_based_recommendations = music_df.iloc[similar_song_indices][['Track Name', 'Artists', 'Album Name', 'Release Date', 'Popularity']]\n",
        "\n",
        "    return content_based_recommendations"
      ],
      "metadata": {
        "id": "vi8gSXtmf_XK"
      },
      "execution_count": 9,
      "outputs": []
    },
    {
      "cell_type": "code",
      "source": [
        "def hybrid_recommendations(input_song_name, num_recommendations=5, alpha=0.5):\n",
        "    if input_song_name not in music_df['Track Name'].values:\n",
        "        print(f\"'{input_song_name}' not found in the dataset. Please enter a valid song name.\")\n",
        "        return\n",
        "\n",
        "    content_based_rec = content_based_recommendations(input_song_name, num_recommendations)\n",
        "\n",
        "    popularity_score = music_df.loc[music_df['Track Name'] == input_song_name, 'Popularity'].values[0]\n",
        "\n",
        "    weighted_popularity_score = popularity_score * calculate_weighted_popularity(music_df.loc[music_df['Track Name'] == input_song_name, 'Release Date'].values[0])\n",
        "\n",
        "    hybrid_recommendations = content_based_rec\n",
        "    new_row = {\n",
        "    'Track Name': input_song_name,\n",
        "    'Artists': music_df.loc[music_df['Track Name'] == input_song_name, 'Artists'].values[0],\n",
        "    'Album Name': music_df.loc[music_df['Track Name'] == input_song_name, 'Album Name'].values[0],\n",
        "    'Release Date': music_df.loc[music_df['Track Name'] == input_song_name, 'Release Date'].values[0],\n",
        "    'Popularity': weighted_popularity_score\n",
        "    }\n",
        "    hybrid_recommendations = pd.concat([hybrid_recommendations, pd.DataFrame([new_row])], ignore_index=True)\n",
        "\n",
        "\n",
        "    hybrid_recommendations = hybrid_recommendations.sort_values(by='Popularity', ascending=False)\n",
        "\n",
        "    hybrid_recommendations = hybrid_recommendations[hybrid_recommendations['Track Name'] != input_song_name]\n",
        "\n",
        "\n",
        "    return hybrid_recommendations"
      ],
      "metadata": {
        "id": "3354mcBPgRzH"
      },
      "execution_count": 12,
      "outputs": []
    },
    {
      "cell_type": "code",
      "source": [
        "input_song_name = \"I'm Good (Blue)\"\n",
        "recommendations = hybrid_recommendations(input_song_name, num_recommendations=5)\n",
        "print(f\"Hybrid recommended songs for '{input_song_name}':\")\n",
        "print(recommendations)"
      ],
      "metadata": {
        "id": "OMlwDGL2gfam",
        "outputId": "c8b864b5-1377-4585-bbaf-e3b4a8854fbb",
        "colab": {
          "base_uri": "https://localhost:8080/"
        }
      },
      "execution_count": 13,
      "outputs": [
        {
          "output_type": "stream",
          "name": "stdout",
          "text": [
            "Hybrid recommended songs for 'I'm Good (Blue)':\n",
            "                   Track Name                                     Artists  \\\n",
            "3  FE!N (feat. Playboi Carti)                 Travis Scott, Playboi Carti   \n",
            "4                Call It Love                     Felix Jaehn, Ray Dalton   \n",
            "1                       REACT  Switch Disco, Ella Henderson, Robert Miles   \n",
            "0                        BOTH                      Tiësto, 21 Savage, BIA   \n",
            "2               Where You Are                          John Summit, Hayla   \n",
            "\n",
            "      Album Name Release Date  Popularity  \n",
            "3         UTOPIA   2023-07-28        91.0  \n",
            "4   Call It Love   2022-09-16        81.0  \n",
            "1          REACT   2023-01-13        80.0  \n",
            "0           BOTH   2023-08-29        79.0  \n",
            "2  Where You Are   2023-03-03        77.0  \n"
          ]
        }
      ]
    }
  ]
}